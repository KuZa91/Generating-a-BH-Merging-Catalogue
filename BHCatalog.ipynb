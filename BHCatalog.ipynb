{
 "cells": [
  {
   "cell_type": "markdown",
   "metadata": {},
   "source": [
    "<h1> BBHs merging catalog generator </h1> "
   ]
  },
  {
   "cell_type": "markdown",
   "metadata": {},
   "source": [
    "In the following, we'll implement a notebook that, given a certain volume of sky, will return a catalog of possible BBHs merging events.\n",
    "The probability distribution implemented for the variables of the events, will be taken from [B. P. Abbott](https://arxiv.org/abs/1811.12940).\n",
    "First of all, we need to import some modules ! "
   ]
  },
  {
   "cell_type": "code",
   "execution_count": 1,
   "metadata": {},
   "outputs": [],
   "source": [
    "import numpy as np\n",
    "import scipy.special as sc\n",
    "import statistics as st\n",
    "import random\n",
    "import pandas as pd\n",
    "%matplotlib inline\n",
    "import matplotlib.pyplot as plt\n",
    "plt.style.use('seaborn-whitegrid')"
   ]
  },
  {
   "cell_type": "markdown",
   "metadata": {},
   "source": [
    "Let's start by defining the probability distribution in function of the masses, we'll assume that the regime $m_{min} \\leq m_{2} \\leq m_{1} \\leq m_{max}$ holds, hence the density distribution will represent the probability of having one BH in the mass range and the other with mass lower to the first one.\n",
    "Due to the simmetry of the problem, the total number of events should be multiplied by 2.\n",
    "We have :"
   ]
  },
  {
   "cell_type": "code",
   "execution_count": 2,
   "metadata": {},
   "outputs": [],
   "source": [
    "# Function for estimating the Phase Space costant of the Mass distribution\n",
    "\n",
    "def MassPS(ran_m1, ran_m2, m_min, m_max, alpha, beta_q):\n",
    "    \n",
    "    ris = 0.\n",
    "    \n",
    "    for i in range(len(ran_m1)- 1):\n",
    "        for j in range(len(ran_m2)- 1):\n",
    "            if(ran_m1[i] >= m_min and ran_m1[i] <= m_max and ran_m2[j] <= ran_m1[i] and ran_m2[j] >= m_min):\n",
    "                mid_m1 = 0.5*(ran_m1[i + 1] + ran_m1[i])\n",
    "                mid_m2 = 0.5*(ran_m2[j + 1] + ran_m2[j])\n",
    "                q = mid_m2/mid_m1 \n",
    "                ris +=  (ran_m1[i + 1] - ran_m1[i])*(ran_m2[j + 1] - ran_m2[j])*(np.power(mid_m1, (-alpha))*np.power(q, beta_q))\n",
    "   \n",
    "    return ris"
   ]
  },
  {
   "cell_type": "code",
   "execution_count": 3,
   "metadata": {},
   "outputs": [],
   "source": [
    "# Function for the distribution in function of mass\n",
    "\n",
    "def MassDistr(m1, m2, m_min, m_max, alpha, beta_q, C_norm):\n",
    "    if(m1 >= m_min and m1 <= m_max and m2 <= m1 and m2 >= m_min) :\n",
    "        q = m2/m1\n",
    "        return (C_norm*np.power(m1, (-alpha))*np.power(q, beta_q))\n",
    "    else :\n",
    "        return 0."
   ]
  },
  {
   "cell_type": "markdown",
   "metadata": {},
   "source": [
    "Then, we'll need a function that allow us to convert from redshift to Gigaparsec :"
   ]
  },
  {
   "cell_type": "code",
   "execution_count": 4,
   "metadata": {},
   "outputs": [],
   "source": [
    "# Just a function to convert from Z to GPC using Hubble Law\n",
    "\n",
    "def Z_to_Gpc(z):\n",
    "    return ((z*c*(10**(-3)))/(H_0)) # only valid for z < 1"
   ]
  },
  {
   "cell_type": "markdown",
   "metadata": {},
   "source": [
    "and the function that estimates the differential comoving volume in function of the redshift :"
   ]
  },
  {
   "cell_type": "code",
   "execution_count": 5,
   "metadata": {},
   "outputs": [],
   "source": [
    "#In the following function, the differential comoving volume in function of the redshift will be estimated as a spherical surface, it need to be integrated over dr to obtain the real volume \n",
    "\n",
    "def DeVC(z):\n",
    "    r = Z_to_Gpc(z)    \n",
    "    return (4.*np.pi*(r**2.))"
   ]
  },
  {
   "cell_type": "markdown",
   "metadata": {},
   "source": [
    "Now let's define the auxiliary functions for the spin distribution density :"
   ]
  },
  {
   "cell_type": "code",
   "execution_count": 6,
   "metadata": {},
   "outputs": [],
   "source": [
    "def BetaSpinParameters(Expected_a, Var_a):\n",
    "    expec_rel = (Expected_a/(1. - Expected_a))\n",
    "    beta_a = ((expec_rel - Var_a*np.power(1. + expec_rel, 2.))/(Var_a*np.power(1. + expec_rel, 3.)))\n",
    "    alpha_a = expec_rel*beta_a\n",
    "    return alpha_a, beta_a"
   ]
  },
  {
   "cell_type": "markdown",
   "metadata": {},
   "source": [
    "and hence, the spin distribution module density is given by :"
   ]
  },
  {
   "cell_type": "code",
   "execution_count": 7,
   "metadata": {},
   "outputs": [],
   "source": [
    "# Estimating the beta function, that will be used as a normalization constant, by using the trapeze method to avoid problems in the extremes\n",
    "\n",
    "def Beta_Func(span_a, alpha_a, beta_a):\n",
    "    ris = 0.\n",
    "    for i in range(len(span_a)- 1):\n",
    "        mid_a = 0.5*(span_a[i + 1] + span_a[i])\n",
    "        ris +=  (span_a[i + 1] - span_a[i])*(np.power(mid_a,(alpha_a - 1.))*np.power((1. - mid_a),(beta_a - 1.)))\n",
    "   \n",
    "    return ris"
   ]
  },
  {
   "cell_type": "code",
   "execution_count": 8,
   "metadata": {},
   "outputs": [],
   "source": [
    "# Distribution for the spin amplitude, the beta distribution could get values bigger than 1 !\n",
    "\n",
    "def SpinModDistrib(a, alpha_a, beta_a, Beta_Val):\n",
    "     \n",
    "    return ((np.power(a, alpha_a - 1.)*np.power(1. - a, beta_a - 1.))/(Beta_Val))"
   ]
  },
  {
   "cell_type": "markdown",
   "metadata": {},
   "source": [
    "while the spin orientations distribution is given by :"
   ]
  },
  {
   "cell_type": "code",
   "execution_count": 9,
   "metadata": {},
   "outputs": [],
   "source": [
    "# Spin orientation distribution, zeta = 1 gives a gaussian distribution centered in cos_ti = 1, zeta = 0 will return a isotropic distribution\n",
    "\n",
    "def SpinOrientDistrib(cos_t1,cos_t2, zeta, sigma_1, sigma_2):\n",
    "    prob = (1. - zeta)/(4) + ((2.*zeta)/(np.pi))*\\\n",
    "    (np.exp(-((np.power(1. - cos_t1,2.))/(2.*np.power(sigma_1,2.))))/(sigma_1*sc.erf(np.sqrt(2)/sigma_1)))\\\n",
    "    *(np.exp(-((np.power(1. - cos_t2,2.))/(2.*np.power(sigma_2,2.))))/(sigma_2*sc.erf(np.sqrt(2)/sigma_2)))\n",
    "    return prob\n"
   ]
  },
  {
   "cell_type": "markdown",
   "metadata": {},
   "source": [
    "We may finally define the distribution function for the number of events :"
   ]
  },
  {
   "cell_type": "code",
   "execution_count": 10,
   "metadata": {},
   "outputs": [],
   "source": [
    "# Density function for the events in function of the parameters\n",
    "\n",
    "def NDistrib(z,m1,m2,a_1,a_2,cos_t1,cos_t2):\n",
    "    n = R_0*DeVC(z)*(T_obs/(1. + z)) \\\n",
    "    *MassDistr(m1,m2, m_min, m_max, alpha,beta_q, (1./MassPhaseSpace)) \\\n",
    "    *SpinModDistrib(a_1, alpha_a, beta_a, BetaVal)*SpinModDistrib(a_2, alpha_a, beta_a, BetaVal) \\\n",
    "    *SpinOrientDistrib(cos_t1, cos_t2, zeta, sigma_1, sigma_2)\n",
    "    return n"
   ]
  },
  {
   "cell_type": "markdown",
   "metadata": {},
   "source": [
    "and some other functions just to make the result appear sexier :"
   ]
  },
  {
   "cell_type": "code",
   "execution_count": 11,
   "metadata": {},
   "outputs": [],
   "source": [
    "# This function will generate a fake name for the event in the time range of the LISA mission, it will not generate events in the day 29,30,31\n",
    "\n",
    "def Gen_Event_name():\n",
    "    \n",
    "    month = random.randrange(12) + 1\n",
    "    day = random.randrange(28) + 1\n",
    "    \n",
    "    if month < 10 :\n",
    "        month = '0'+ str(month)        \n",
    "    else:\n",
    "        month = str(month)\n",
    "        \n",
    "    if day < 10 :\n",
    "        day = '0'+ str(day)        \n",
    "    else:\n",
    "        day = str(day)    \n",
    "        \n",
    "    return 'GW'+ str(random.randrange(34,37))+ month + day\n"
   ]
  },
  {
   "cell_type": "markdown",
   "metadata": {},
   "source": [
    "The global variables of the simulation will be set to :"
   ]
  },
  {
   "cell_type": "code",
   "execution_count": 12,
   "metadata": {},
   "outputs": [],
   "source": [
    "mode_ex = False\n",
    "\n",
    "# Mass Distribution parameters (values taken from the results of arxiv 1811.12940)\n",
    "\n",
    "m_min = 5. # Solar Masses\n",
    "m_max = 50. # Solar Masses\n",
    "alpha = 1.6 # +-1.6 Big Error !\n",
    "beta_q = 6.7 # +4.8 -5.9 Still Big Error !\n",
    "\n",
    "#Spin Distribution parameter (values assumed considering the results of  arxiv 1811.12940)\n",
    "\n",
    "Expected_a = 0.2 # Expected value for the spin amplitude a, < 0.5 with 90% confidence \n",
    "Var_a = 1./40.\n",
    "a_max = 1.\n",
    "alpha_a, beta_a = BetaSpinParameters(Expected_a, Var_a)\n",
    "sigma_1 = 5.\n",
    "sigma_2 = 5.\n",
    "zeta = 1. # For a gaussian distribution of the spin alignment \n",
    "\n",
    "# Merger distribution parameters\n",
    "\n",
    "T_obs = 3. # years estimated of observation\n",
    "R_0 = 53.2 # +58.5 - 27.0 Gpc^-3 yr-1 Merger rate density assumed constant over the comoving volume\n",
    "zmax = 0.5 # z value corrispondent to 2 gigaparsec\n",
    "\n",
    "#General Constants \n",
    "\n",
    "c = 299792.46 # speed of light in Km/sec\n",
    "H_0 = 67.8 # Hubble constant in Km/(s*MPc) \n",
    "\n",
    "if(alpha_a <=1 or beta_a <=1):\n",
    "    print('Error in the selection of the values for E[a] and Var[a]')"
   ]
  },
  {
   "cell_type": "markdown",
   "metadata": {},
   "source": [
    "Let's plot the colormaps of the probability functions to check how they behave :"
   ]
  },
  {
   "cell_type": "code",
   "execution_count": 13,
   "metadata": {
    "scrolled": true
   },
   "outputs": [
    {
     "name": "stdout",
     "output_type": "stream",
     "text": [
      "The integrated probability for all possible mass pairs is :  1.000000000000001\n"
     ]
    },
    {
     "data": {
      "image/png": "[encoded data removed]",
      "text/plain": [
       "<Figure size 432x288 with 2 Axes>"
      ]
     },
     "metadata": {
      "needs_background": "light"
     },
     "output_type": "display_data"
    }
   ],
   "source": [
    "# Colormap of the mass distribution function\n",
    "\n",
    "Z = np.zeros((25,25))\n",
    "ran_m1 = np.linspace(m_min,m_max,25)\n",
    "ran_m2 = np.linspace(m_min,m_max,25)\n",
    "MassPhaseSpace = MassPS(ran_m1, ran_m2, m_min, m_max, alpha, beta_q)\n",
    "X, Y = np.meshgrid(ran_m1, ran_m2)\n",
    "\n",
    "for i in range(len(ran_m1)):\n",
    "    for j in range(len(ran_m2)):\n",
    "        Z[j][i] = MassDistr(X[j][i], Y[j][i], m_min, m_max, alpha, beta_q, (1./MassPhaseSpace))\n",
    "        \n",
    "plt.contourf(X, Y, Z, 1000, cmap='jet')\n",
    "plt.colorbar();\n",
    "plt.xlabel(r'$m_1$', fontsize = 15)\n",
    "plt.ylabel(r'$m_2*$', fontsize = 15)\n",
    "plt.title('Mass Distribution Function', fontsize = 15)\n",
    "plt.loglog()\n",
    "\n",
    "# Testing also the integrated total probability\n",
    "\n",
    "totprob = 0.\n",
    "\n",
    "for i in range(len(ran_m1)-1):\n",
    "    for j in range(len(ran_m2)-1):\n",
    "        totprob += (ran_m1[i + 1] - ran_m1[i])*(ran_m2[j + 1] - ran_m2[j])*MassDistr(st.mean([ran_m1[i],ran_m1[i+1]]), st.mean([ran_m2[j],ran_m2[j+1]]), m_min, m_max, alpha, beta_q, (1./MassPhaseSpace))\n",
    "\n",
    "print('The integrated probability for all possible mass pairs is : ', totprob) "
   ]
  },
  {
   "cell_type": "code",
   "execution_count": 14,
   "metadata": {},
   "outputs": [
    {
     "name": "stdout",
     "output_type": "stream",
     "text": [
      "The integrated probability for all possible spin amplitudes is :  1.0000000000000007\n"
     ]
    },
    {
     "data": {
      "image/png": "[encoded data removed]",
      "text/plain": [
       "<Figure size 432x288 with 2 Axes>"
      ]
     },
     "metadata": {
      "needs_background": "light"
     },
     "output_type": "display_data"
    }
   ],
   "source": [
    "# Colormap of the spin amplitude distribution function\n",
    "\n",
    "Z = np.zeros((25,25))\n",
    "ran_a1 = np.linspace(0.,a_max,25)\n",
    "ran_a2 = np.linspace(0.,a_max,25)\n",
    "BetaVal = Beta_Func(ran_a1, alpha_a, beta_a)\n",
    "X, Y = np.meshgrid(ran_a1, ran_a2)\n",
    "\n",
    "for i in range(len(ran_a1)):\n",
    "    for j in range(len(ran_a2)):\n",
    "        Z[j][i] = SpinModDistrib(X[j][i], alpha_a, beta_a, BetaVal)*SpinModDistrib(Y[j][i], alpha_a, beta_a, BetaVal)\n",
    "        \n",
    "plt.contourf(X, Y, Z, 100, cmap='jet')\n",
    "plt.colorbar();\n",
    "plt.xlabel(r'$a_1$', fontsize = 15)\n",
    "plt.ylabel(r'$a_2*$', fontsize = 15)\n",
    "plt.title('Spin Amplitude Distribution Function', fontsize = 15)\n",
    "\n",
    "# Testing also the integrated total probability\n",
    "\n",
    "totprob = 0.\n",
    "\n",
    "for i in range(len(ran_a1)-1):\n",
    "    for j in range(len(ran_a2)-1):\n",
    "        totprob += (ran_a1[i + 1] - ran_a1[i])*(ran_a2[j + 1] - ran_a2[j])*SpinModDistrib(st.mean([ran_a1[i],ran_a1[i+1]]), alpha_a, beta_a, BetaVal)*SpinModDistrib(st.mean([ran_a2[j],ran_a2[j+1]]), alpha_a, beta_a, BetaVal)\n",
    "\n",
    "print('The integrated probability for all possible spin amplitudes is : ', totprob)        "
   ]
  },
  {
   "cell_type": "code",
   "execution_count": 15,
   "metadata": {},
   "outputs": [
    {
     "name": "stdout",
     "output_type": "stream",
     "text": [
      "The integrated probability for all possible tilt angles is :  1.000021940340117\n"
     ]
    },
    {
     "data": {
      "image/png": "[encoded data removed]",
      "text/plain": [
       "<Figure size 432x288 with 2 Axes>"
      ]
     },
     "metadata": {
      "needs_background": "light"
     },
     "output_type": "display_data"
    }
   ],
   "source": [
    "# Colormap of the spin tilt distribution function\n",
    "\n",
    "Z = np.zeros((25,25))\n",
    "ran_cos_t1 = np.linspace(-1.,1.,25)\n",
    "ran_cos_t2 = np.linspace(-1.,1.,25)\n",
    "X, Y = np.meshgrid(ran_cos_t1, ran_cos_t2)\n",
    "\n",
    "for i in range(len(ran_cos_t1)):\n",
    "    for j in range(len(ran_cos_t2)):\n",
    "        Z[j][i] = SpinOrientDistrib(X[j][i], Y[j][i], zeta, sigma_1, sigma_2)\n",
    "        \n",
    "plt.contourf(X, Y, Z, 100, cmap='jet')\n",
    "plt.colorbar();\n",
    "plt.xlabel(r'$cos_t1$', fontsize = 15)\n",
    "plt.ylabel(r'$cos_t2*$', fontsize = 15)\n",
    "plt.title('Spin tilt angles Distribution function', fontsize = 15)\n",
    "\n",
    "# Testing also the integrated total probability\n",
    "\n",
    "totprob = 0.\n",
    "\n",
    "for i in range(len(ran_cos_t1)-1):\n",
    "    for j in range(len(ran_cos_t2)-1):\n",
    "        totprob += (ran_cos_t1[i + 1] - ran_cos_t1[i])*(ran_cos_t2[j + 1] - ran_cos_t2[j])*SpinOrientDistrib(st.mean([ran_cos_t1[i],ran_cos_t1[i + 1]]), st.mean([ran_cos_t2[j],ran_cos_t2[j + 1]]), zeta, sigma_1, sigma_2)\n",
    "\n",
    "print('The integrated probability for all possible tilt angles is : ', totprob)\n"
   ]
  },
  {
   "cell_type": "markdown",
   "metadata": {},
   "source": [
    "The simulation will be spanned over the following range of variables :"
   ]
  },
  {
   "cell_type": "code",
   "execution_count": 16,
   "metadata": {},
   "outputs": [],
   "source": [
    "ran_m1 = np.linspace(m_min,m_max,25)\n",
    "ran_m2 = np.linspace(m_min,m_max,25)\n",
    "MassPhaseSpace = MassPS(ran_m1, ran_m2, m_min, m_max, alpha, beta_q)\n",
    "ran_z = np.linspace(0.,zmax, 5)    # Don't put bins too small or the volume wouldn't be enough to generate events\n",
    "ran_a_1 = np.linspace(0., a_max,5)\n",
    "ran_a_2 = np.linspace(0., a_max,5)\n",
    "BetaVal = Beta_Func(ran_a_1, alpha_a, beta_a)\n",
    "ran_cos_t1 = np.linspace(-1.,1.,4)\n",
    "ran_cos_t2 = np.linspace(-1.,1.,4)"
   ]
  },
  {
   "cell_type": "markdown",
   "metadata": {},
   "source": [
    "and the result will be saved in the BHCat dataframe :"
   ]
  },
  {
   "cell_type": "code",
   "execution_count": 17,
   "metadata": {},
   "outputs": [],
   "source": [
    "BHCat = pd.DataFrame(columns=['EventName', 'Distance_GPc', 'Declination', 'RightAscension', 'Mass1', 'Mass2', 'Spin_a1', 'Spin_a2', 'cos_t1', 'cos_t2' ])"
   ]
  },
  {
   "cell_type": "code",
   "execution_count": 18,
   "metadata": {},
   "outputs": [],
   "source": [
    "# Example of the format of an added merging event\n",
    "#BH= pd.DataFrame([['GW321312',1.1,0.6,0.8,22,18, 0.2,0., 0.4, -0.6],], columns=['EventName', 'Distance_GPc', 'Declination', 'RightAscension', 'Mass1', 'Mass2', 'Spin_a1', 'Spin_a2', 'cos_t1', 'cos_t2' ])"
   ]
  },
  {
   "cell_type": "markdown",
   "metadata": {},
   "source": [
    "The standard way of simulating the events will generate the same number of events in the same range of variables every time it was run...\n",
    "To give to the simulation a little bit of randomness, and allow the generation of merging events with exotic range of variable, set the **exotic_mode** flags to true. "
   ]
  },
  {
   "cell_type": "code",
   "execution_count": 19,
   "metadata": {},
   "outputs": [],
   "source": [
    "mode_ex = True # If true, in each volume of the phase space it will randomly add a number between [0,0.5]"
   ]
  },
  {
   "cell_type": "markdown",
   "metadata": {},
   "source": [
    "We may finally launch the pipeline to generate the merging events in the considered volume :"
   ]
  },
  {
   "cell_type": "code",
   "execution_count": 20,
   "metadata": {},
   "outputs": [
    {
     "name": "stdout",
     "output_type": "stream",
     "text": [
      "Percentage of completition : 10.0\n",
      "Percentage of completition : 13.75\n",
      "Percentage of completition : 17.5\n",
      "Percentage of completition : 21.25\n",
      "Percentage of completition : 25.0\n",
      "Percentage of completition : 28.75\n",
      "Percentage of completition : 32.5\n",
      "Percentage of completition : 36.25\n",
      "Percentage of completition : 40.0\n",
      "Percentage of completition : 43.75\n",
      "Percentage of completition : 47.5\n",
      "Percentage of completition : 51.25\n",
      "Percentage of completition : 55.0\n",
      "Percentage of completition : 58.75\n",
      "Percentage of completition : 62.5\n",
      "Percentage of completition : 66.25\n",
      "Percentage of completition : 70.0\n",
      "Percentage of completition : 73.75\n",
      "Percentage of completition : 77.5\n",
      "Percentage of completition : 81.25\n",
      "Percentage of completition : 85.0\n",
      "Percentage of completition : 88.75\n",
      "Percentage of completition : 92.5\n",
      "Percentage of completition : 96.25\n",
      "Sono stati simulati  6514.0 diversi eventi\n"
     ]
    }
   ],
   "source": [
    "Nev = 0\n",
    "for im1 in range(len(ran_m1)-1):\n",
    "    print('Percentage of completition :',(100.*ran_m1[im1]/m_max))\n",
    "    for im2 in (range(im1)):\n",
    "        for iz in range(len(ran_z) - 1):\n",
    "            for ia_1 in range(len(ran_a_1)-1):\n",
    "                for ia_2 in range(len(ran_a_2)-1):\n",
    "                    for ict1 in range(len(ran_cos_t1)-1):\n",
    "                        for ict2 in range(len(ran_cos_t2)-1):\n",
    "                            # estimating the value of NDistrib in function of the values, the value will be interpolated with the trapeze method\n",
    "                            nstep =  NDistrib(st.mean([ran_z[iz],ran_z[iz + 1]]),st.mean([ran_m1[im1],ran_m1[im1 + 1]]),st.mean([ran_m2[im2],ran_m2[im2 + 1]]),st.mean([ran_a_1[ia_1],ran_a_1[ia_1 + 1]])\\\n",
    "                                     ,st.mean([ran_a_2[ia_2],ran_a_2[ia_2 + 1]]),st.mean([ran_cos_t1[ict1],ran_cos_t1[ict1 + 1]]),st.mean([ran_cos_t2[ict2],ran_cos_t2[ict2 + 1]]))\n",
    "                            # to obtain the real result of the integral, we now need to multiply for the 2 factor due to the mass distribution and for the values of the delta of all the integration variables  \n",
    "                            nstep *= 2.*Z_to_Gpc(ran_z[iz +1] - ran_z[iz])*(ran_m1[im1 + 1] - ran_m1[im1])*(ran_m2[im2 + 1] - ran_m2[im2])*(ran_a_1[ia_1 + 1] - ran_a_1[ia_1])*(ran_a_2[ia_2 + 1] - ran_a_2[ia_2])\\\n",
    "                                     *(ran_cos_t1[ict1 + 1] - ran_cos_t1[ict1])*(ran_cos_t2[ict2 + 1] - ran_cos_t2[ict2])\n",
    "                            # Checking if mode_exotic\n",
    "                            if(mode_ex):\n",
    "                                nstep += (np.random.random()*0.5)\n",
    "                            # The value need to be round up to an integer\n",
    "                            nstep = round(nstep)\n",
    "                            Nev += nstep\n",
    "                            for i in range(int(nstep)):\n",
    "                                # Generate random values in the phase volume for each of the found events \n",
    "                                ev_nm = Gen_Event_name()\n",
    "                                ev_dst = Z_to_Gpc(random.uniform(ran_z[iz],ran_z[iz + 1]))\n",
    "                                ev_dec = random.uniform(-(0.5*np.pi),0.5*np.pi)\n",
    "                                ev_ra = random.uniform(0.,2.*np.pi)\n",
    "                                ev_m1 = random.uniform(ran_m1[im1],ran_m1[im1 + 1])\n",
    "                                ev_m2 = random.uniform(ran_m2[im2],ran_m1[im2 + 1])\n",
    "                                ev_sa1 = random.uniform(ran_a_1[ia_1],ran_a_1[ia_1 + 1])\n",
    "                                ev_sa2 = random.uniform(ran_a_2[ia_2],ran_a_2[ia_2 + 1])\n",
    "                                ev_st1 = random.uniform(ran_cos_t1[ict1],ran_cos_t1[ict1 + 1])\n",
    "                                ev_st2 = random.uniform(ran_cos_t2[ict2],ran_cos_t2[ict2 + 1])\n",
    "                                BH = pd.DataFrame([[ev_nm,ev_dst,ev_dec,ev_ra,ev_m1,ev_m2,ev_sa1,ev_sa2,ev_st1,ev_st2],], columns=['EventName', 'Distance_GPc', 'Declination', 'RightAscension', 'Mass1', 'Mass2', 'Spin_a1', 'Spin_a2', 'cos_t1', 'cos_t2' ])\n",
    "                                BHCat = BHCat.append(BH)\n",
    "                            \n",
    "print('Sono stati simulati ', Nev, 'diversi eventi')\n",
    "# Saving the Dataframe\n",
    "\n",
    "BHCat.set_index('EventName', inplace = True)\n",
    "BHCat = BHCat.sort_index(axis=0)\n",
    "\n",
    "if(mode_ex):\n",
    "    BHCat.to_csv('BHCatalogueExotic.csv', index_label = 'EventName')\n",
    "else:\n",
    "    BHCat.to_csv('BHCatalogue.csv', index_label = 'EventName')"
   ]
  }
 ],
 "metadata": {
  "kernelspec": {
   "display_name": "Python 3",
   "language": "python",
   "name": "python3"
  },
  "language_info": {
   "codemirror_mode": {
    "name": "ipython",
    "version": 3
   },
   "file_extension": ".py",
   "mimetype": "text/x-python",
   "name": "python",
   "nbconvert_exporter": "python",
   "pygments_lexer": "ipython3",
   "version": "3.7.4"
  }
 },
 "nbformat": 4,
 "nbformat_minor": 2
}
