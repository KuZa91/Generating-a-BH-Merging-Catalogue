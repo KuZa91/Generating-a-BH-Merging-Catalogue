{
 "cells": [
  {
   "cell_type": "markdown",
   "metadata": {},
   "source": [
    "<h1> BBHs merging catalog generator </h1> "
   ]
  },
  {
   "cell_type": "markdown",
   "metadata": {},
   "source": [
    "In the following, we'll implement a notebook that, given a certain volume of sky, will return a catalog of possible BBHs merging events.\n",
    "The probability distribution implemented for the variables of the events, will be taken from [B. P. Abbott](https://arxiv.org/abs/1811.12940).\n",
    "First of all, we need to import some modules ! "
   ]
  },
  {
   "cell_type": "code",
   "execution_count": 1,
   "metadata": {},
   "outputs": [],
   "source": [
    "import numpy as np\n",
    "import scipy.special as sc\n",
    "import statistics as st\n",
    "import pandas as pd\n",
    "%matplotlib inline\n",
    "import matplotlib.pyplot as plt\n",
    "plt.style.use('seaborn-whitegrid')"
   ]
  },
  {
   "cell_type": "markdown",
   "metadata": {},
   "source": [
    "Let's start by defining the probability distribution in function of the masses, we'll assume that the regime $m_{min} \\leq m_{2} \\leq m_{1} \\leq m_{max}$ holds :"
   ]
  },
  {
   "cell_type": "code",
   "execution_count": 2,
   "metadata": {},
   "outputs": [],
   "source": [
    "#Beware to alpha = 1. or beta_q = -1, the C_norm wouldn't work in that case\n",
    "\n",
    "def MassDistr(m1, m2, m_min, m_max, alpha, beta_q):\n",
    "    if(m1 >= m_min and m1 <= m_max and m2 <= m1 and m2 >= m_min) :\n",
    "        q = m2/m1\n",
    "        PhaseSpace = ((np.power(m_max, 1. - alpha) - np.power(m_min, 1. - alpha))/(1. - alpha))*(1./(beta_q - 1.))\n",
    "        C_norm = 1./PhaseSpace\n",
    "        return (C_norm*np.power(m1, (-alpha))*np.power(q, beta_q))\n",
    "    else :\n",
    "        return 0."
   ]
  },
  {
   "cell_type": "markdown",
   "metadata": {},
   "source": [
    "Then, we'll need a function that allow us to convert from redshift to Gigaparsec :"
   ]
  },
  {
   "cell_type": "code",
   "execution_count": 3,
   "metadata": {},
   "outputs": [],
   "source": [
    "def Z_to_Gpc(z):\n",
    "    return ((z*c*(10**(-3)))/(H_0)) # only valid for z < 1"
   ]
  },
  {
   "cell_type": "markdown",
   "metadata": {},
   "source": [
    "and the function that estimates the differential comoving volume in function of the redshift :"
   ]
  },
  {
   "cell_type": "code",
   "execution_count": 4,
   "metadata": {},
   "outputs": [],
   "source": [
    "#In the following function, the differential comoving volume in function of the redshift will be estimated as a spherical surface, it need to be integrated over dr to obtain the real volume \n",
    "\n",
    "def DeVC(z):\n",
    "    r = Z_to_Gpc(z)    \n",
    "    return (4.*np.pi*(r**2.))"
   ]
  },
  {
   "cell_type": "markdown",
   "metadata": {},
   "source": [
    "Now let's define the auxiliary functions for the spin distribution density :"
   ]
  },
  {
   "cell_type": "code",
   "execution_count": 5,
   "metadata": {},
   "outputs": [],
   "source": [
    "def BetaSpinParameters(Expected_a, Var_a):\n",
    "    expec_rel = (Expected_a/(1. - Expected_a))\n",
    "    beta_a = ((expec_rel - Var_a*np.power(1. + expec_rel, 2.))/(Var_a*np.power(1. + expec_rel, 3.)))\n",
    "    alpha_a = expec_rel*beta_a\n",
    "    return alpha_a, beta_a"
   ]
  },
  {
   "cell_type": "markdown",
   "metadata": {},
   "source": [
    "and hence, the spin distribution module density is given by :"
   ]
  },
  {
   "cell_type": "code",
   "execution_count": 6,
   "metadata": {},
   "outputs": [],
   "source": [
    "def SpinModDistrib(a, alpha_a, beta_a):\n",
    "    return ((np.power(a, alpha_a - 1.)*np.power(1. - a, beta_a - 1.))/(sc.beta(alpha_a, beta_a)))"
   ]
  },
  {
   "cell_type": "markdown",
   "metadata": {},
   "source": [
    "while the spin orientations distribution is given by :"
   ]
  },
  {
   "cell_type": "code",
   "execution_count": 7,
   "metadata": {},
   "outputs": [],
   "source": [
    "def SpinOrientDistrib(cos_t1,cos_t2, zeta, sigma_1, sigma_2):\n",
    "    prob = (1. - zeta)/(4) + ((2.*zeta)/(np.pi))*\\\n",
    "    (np.exp(-((np.power(1. - cos_t1,2.))/(2.*np.power(sigma_1,2.))))/(sigma_1*sc.erf(np.sqrt(2)/sigma_1)))\\\n",
    "    *(np.exp(-((np.power(1. - cos_t2,2.))/(2.*np.power(sigma_2,2.))))/(sigma_2*sc.erf(np.sqrt(2)/sigma_2)))\n",
    "    return prob\n"
   ]
  },
  {
   "cell_type": "markdown",
   "metadata": {},
   "source": [
    "We may finally define the distribution function for the number of events :"
   ]
  },
  {
   "cell_type": "code",
   "execution_count": 8,
   "metadata": {},
   "outputs": [],
   "source": [
    "def NDistrib(z,m1,m2,a_1,a_2,cos_t1,cos_t2):\n",
    "    n = R_0*DeVC(z)*(T_obs/(1. + z)) \\\n",
    "    *MassDistr(m1,m2, m_min, m_max, alpha,beta_q) \\\n",
    "    *SpinModDistrib(a_1, alpha_a, beta_a)*SpinModDistrib(a_2, alpha_a, beta_a) \\\n",
    "    *SpinOrientDistrib(cos_t1, cos_t2, zeta, sigma_1, sigma_2)\n",
    "    return n"
   ]
  },
  {
   "cell_type": "markdown",
   "metadata": {},
   "source": [
    "The global variables of the simulation will be set to :"
   ]
  },
  {
   "cell_type": "code",
   "execution_count": 9,
   "metadata": {},
   "outputs": [],
   "source": [
    "# Mass Distribution parameters (values taken from the results of arxiv 1811.12940)\n",
    "\n",
    "m_min = 5. # Solar Masses\n",
    "m_max = 50. # Solar Masses\n",
    "alpha = 1.6 # +-1.6 Big Error !\n",
    "beta_q = 6.7 # +4.8 -5.9 Still Big Error !\n",
    "\n",
    "#Spin Distribution parameter (values assumed considering the results of  arxiv 1811.12940)\n",
    "\n",
    "Expected_a = 0.25 \n",
    "Var_a = 1./12.\n",
    "a_max = 1. \n",
    "alpha_a, beta_a = BetaSpinParameters(Expected_a, Var_a)\n",
    "sigma_1 = 5.\n",
    "sigma_2 = 5.\n",
    "zeta = 1. # For a gaussian distribution of the spin alignment \n",
    "\n",
    "# Merger distribution parameters\n",
    "\n",
    "T_obs = 3. # years estimated of observation\n",
    "R_0 = 53.2 # +58.5 - 27.0 Gpc^-3 yr-1 Merger rate density assumed constant over the comoving volume\n",
    "zmax = 0.5 # z value corrispondent to 2 gigaparsec\n",
    "\n",
    "#General Constants \n",
    "\n",
    "c = 299792.46 # speed of light in Km/sec\n",
    "H_0 = 67.8 # Hubble constant in Km/(s*MPc)"
   ]
  },
  {
   "cell_type": "markdown",
   "metadata": {},
   "source": [
    "While we'll span the simulation over the following range of variables :"
   ]
  },
  {
   "cell_type": "code",
   "execution_count": 10,
   "metadata": {},
   "outputs": [],
   "source": [
    "ran_m1 = np.linspace(m_min,m_max,25)\n",
    "ran_m2 = np.linspace(m_min,m_max,25)\n",
    "ran_z = np.linspace(0.,zmax, 5)    # Don't put bins too small or the volume wouldn't be enough to generate events\n",
    "ran_a_1 = np.linspace(0., a_max,5)\n",
    "ran_a_2 = np.linspace(0., a_max,5)\n",
    "ran_cos_t1 = np.linspace(-1.,1.,5)\n",
    "ran_cos_t2 = np.linspace(-1.,1.,5)"
   ]
  },
  {
   "cell_type": "markdown",
   "metadata": {},
   "source": [
    "and the result will be saved in the BHCat dataframe :"
   ]
  },
  {
   "cell_type": "code",
   "execution_count": null,
   "metadata": {},
   "outputs": [],
   "source": []
  },
  {
   "cell_type": "markdown",
   "metadata": {},
   "source": [
    "We may finally launch the pipeline to generate the merging events in the considered volume :"
   ]
  },
  {
   "cell_type": "code",
   "execution_count": 11,
   "metadata": {},
   "outputs": [
    {
     "name": "stdout",
     "output_type": "stream",
     "text": [
      "Percentage of completition : 10.0\n",
      "Percentage of completition : 13.75\n",
      "Percentage of completition : 17.5\n",
      "Percentage of completition : 21.25\n",
      "Percentage of completition : 25.0\n",
      "Percentage of completition : 28.75\n",
      "Percentage of completition : 32.5\n",
      "Percentage of completition : 36.25\n",
      "Percentage of completition : 40.0\n",
      "Percentage of completition : 43.75\n",
      "Percentage of completition : 47.5\n",
      "Percentage of completition : 51.25\n",
      "Percentage of completition : 55.0\n",
      "Percentage of completition : 58.75\n",
      "Percentage of completition : 62.5\n",
      "Percentage of completition : 66.25\n",
      "Percentage of completition : 70.0\n",
      "Percentage of completition : 73.75\n",
      "Percentage of completition : 77.5\n",
      "Percentage of completition : 81.25\n",
      "Percentage of completition : 85.0\n",
      "Percentage of completition : 88.75\n",
      "Percentage of completition : 92.5\n",
      "Percentage of completition : 96.25\n",
      "Sono stati simulati  4881.0 diversi eventi\n"
     ]
    }
   ],
   "source": [
    "Nev = 0\n",
    "for im1 in range(len(ran_m1)-1):\n",
    "    print('Percentage of completition :',(100.*ran_m1[im1]/m_max))\n",
    "    for im2 in (range(im1)):\n",
    "        for iz in range(len(ran_z) - 1):\n",
    "            for ia_1 in range(len(ran_a_1)-1):\n",
    "                for ia_2 in range(len(ran_a_2)-1):\n",
    "                    for ict1 in range(len(ran_cos_t1)-1):\n",
    "                        for ict2 in range(len(ran_cos_t2)-1):\n",
    "                            # estimating the value of NDistrib in function of the values, the value will be interpolated with the trapeze method\n",
    "                            nstep =  NDistrib(ran_z[iz],st.mean([ran_m1[im1],ran_m1[im1 + 1]]),st.mean([ran_m2[im2],ran_m2[im2 + 1]]),st.mean([ran_a_1[ia_1],ran_a_1[ia_1 + 1]])\\\n",
    "                                     ,st.mean([ran_a_2[ia_2],ran_a_2[ia_2 + 1]]),st.mean([ran_cos_t1[ict1],ran_cos_t1[ict1 + 1]]),st.mean([ran_cos_t2[ict2],ran_cos_t2[ict2 + 1]]))\n",
    "                            # to obtain the real result of the integral, we now need to multiply the value for the delta of all the integration variables  \n",
    "                            nstep *= Z_to_Gpc(ran_z[iz +1] - ran_z[iz])*(ran_m1[im1 + 1] - ran_m1[im1])*(ran_m2[im2 + 1] - ran_m2[im2])*(ran_a_1[ia_1 + 1] - ran_a_1[ia_1])*(ran_a_2[ia_2 + 1] - ran_a_2[ia_2])\\\n",
    "                                     *(ran_cos_t1[ict1 + 1] - ran_cos_t1[ict1])*(ran_cos_t2[ict2 + 1] - ran_cos_t2[ict2])\n",
    "                            # The value need to be round up to an integer\n",
    "                            nstep = round(nstep)\n",
    "                            Nev += nstep\n",
    "                            \n",
    "print('Sono stati simulati ', Nev, 'diversi eventi')                            "
   ]
  }
 ],
 "metadata": {
  "kernelspec": {
   "display_name": "Python 3",
   "language": "python",
   "name": "python3"
  },
  "language_info": {
   "codemirror_mode": {
    "name": "ipython",
    "version": 3
   },
   "file_extension": ".py",
   "mimetype": "text/x-python",
   "name": "python",
   "nbconvert_exporter": "python",
   "pygments_lexer": "ipython3",
   "version": "3.7.4"
  }
 },
 "nbformat": 4,
 "nbformat_minor": 2
}
